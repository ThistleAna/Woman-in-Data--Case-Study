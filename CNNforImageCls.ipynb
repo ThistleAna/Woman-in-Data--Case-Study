{
  "nbformat": 4,
  "nbformat_minor": 0,
  "metadata": {
    "colab": {
      "name": "CNNforImageCls",
      "provenance": [],
      "authorship_tag": "ABX9TyPrvcl54pLoLGIWnw+IkeD6",
      "include_colab_link": true
    },
    "kernelspec": {
      "name": "python3",
      "display_name": "Python 3"
    }
  },
  "cells": [
    {
      "cell_type": "markdown",
      "metadata": {
        "id": "view-in-github",
        "colab_type": "text"
      },
      "source": [
        "<a href=\"https://colab.research.google.com/github/ThistleAna/snowflakes/blob/main/CNNforImageCls.ipynb\" target=\"_parent\"><img src=\"https://colab.research.google.com/assets/colab-badge.svg\" alt=\"Open In Colab\"/></a>"
      ]
    },
    {
      "cell_type": "code",
      "metadata": {
        "colab": {
          "base_uri": "https://localhost:8080/"
        },
        "id": "ydD5VM7C3P1E",
        "outputId": "969e51a2-aa1a-4db3-f83d-b0ba4897d7b9"
      },
      "source": [
        "# example of a cnn for image classification\r\n",
        "from numpy import asarray\r\n",
        "from numpy import unique\r\n",
        "from numpy import argmax\r\n",
        "from tensorflow.keras.datasets.mnist import load_data\r\n",
        "from tensorflow.keras import Sequential\r\n",
        "from tensorflow.keras.layers import Dense\r\n",
        "from tensorflow.keras.layers import Conv2D\r\n",
        "from tensorflow.keras.layers import MaxPool2D\r\n",
        "from tensorflow.keras.layers import Flatten\r\n",
        "from tensorflow.keras.layers import Dropout\r\n",
        "# load dataset\r\n",
        "(x_train, y_train), (x_test, y_test) = load_data()\r\n",
        "# reshape data to have a single channel\r\n",
        "x_train = x_train.reshape((x_train.shape[0], x_train.shape[1], x_train.shape[2], 1))\r\n",
        "x_test = x_test.reshape((x_test.shape[0], x_test.shape[1], x_test.shape[2], 1))\r\n",
        "# determine the shape of the input images\r\n",
        "in_shape = x_train.shape[1:]\r\n",
        "# determine the number of classes\r\n",
        "n_classes = len(unique(y_train))\r\n",
        "print(in_shape, n_classes)\r\n",
        "# normalize pixel values\r\n",
        "x_train = x_train.astype('float32') / 255.0\r\n",
        "x_test = x_test.astype('float32') / 255.0\r\n",
        "# define model\r\n",
        "model = Sequential()\r\n",
        "model.add(Conv2D(32, (3,3), activation='relu', kernel_initializer='he_uniform', input_shape=in_shape))\r\n",
        "model.add(MaxPool2D((2, 2)))\r\n",
        "model.add(Flatten())\r\n",
        "model.add(Dense(100, activation='relu', kernel_initializer='he_uniform'))\r\n",
        "model.add(Dropout(0.5))\r\n",
        "model.add(Dense(n_classes, activation='softmax'))\r\n",
        "# define loss and optimizer\r\n",
        "model.compile(optimizer='adam', loss='sparse_categorical_crossentropy', metrics=['accuracy'])\r\n",
        "# fit the model\r\n",
        "model.fit(x_train, y_train, epochs=10, batch_size=128, verbose=0)\r\n",
        "# evaluate the model\r\n",
        "loss, acc = model.evaluate(x_test, y_test, verbose=0)\r\n",
        "print('Accuracy: %.3f' % acc)\r\n",
        "# make a prediction\r\n",
        "image = x_train[0]\r\n",
        "yhat = model.predict(asarray([image]))\r\n",
        "print('Predicted: class=%d' % argmax(yhat))"
      ],
      "execution_count": 1,
      "outputs": [
        {
          "output_type": "stream",
          "text": [
            "Downloading data from https://storage.googleapis.com/tensorflow/tf-keras-datasets/mnist.npz\n",
            "11493376/11490434 [==============================] - 0s 0us/step\n",
            "(28, 28, 1) 10\n",
            "Accuracy: 0.986\n",
            "Predicted: class=5\n"
          ],
          "name": "stdout"
        }
      ]
    }
  ]
}