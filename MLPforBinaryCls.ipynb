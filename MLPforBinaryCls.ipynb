{
  "nbformat": 4,
  "nbformat_minor": 0,
  "metadata": {
    "colab": {
      "name": "MLPforBinaryCls",
      "provenance": [],
      "authorship_tag": "ABX9TyNWpTGUPqwKmf/6o3uCA0DK",
      "include_colab_link": true
    },
    "kernelspec": {
      "name": "python3",
      "display_name": "Python 3"
    }
  },
  "cells": [
    {
      "cell_type": "markdown",
      "metadata": {
        "id": "view-in-github",
        "colab_type": "text"
      },
      "source": [
        "<a href=\"https://colab.research.google.com/github/ThistleAna/snowflakes/blob/main/MLPforBinaryCls.ipynb\" target=\"_parent\"><img src=\"https://colab.research.google.com/assets/colab-badge.svg\" alt=\"Open In Colab\"/></a>"
      ]
    },
    {
      "cell_type": "code",
      "metadata": {
        "colab": {
          "base_uri": "https://localhost:8080/"
        },
        "id": "PldcqflxvOi7",
        "outputId": "46bcef68-39a8-4d4d-cbb4-980ceb4d905f"
      },
      "source": [
        "# MY FIRST TENSOR FLOW PROJECT\r\n",
        "# mlp for binary classification\r\n",
        "from pandas import read_csv\r\n",
        "from sklearn.model_selection import train_test_split\r\n",
        "from sklearn.preprocessing import LabelEncoder\r\n",
        "from tensorflow.keras import Sequential\r\n",
        "from tensorflow.keras.layers import Dense\r\n",
        "# load the dataset\r\n",
        "path = 'https://raw.githubusercontent.com/jbrownlee/Datasets/master/ionosphere.csv'\r\n",
        "df = read_csv(path, header=None)\r\n",
        "# split into input and output columns\r\n",
        "X, y = df.values[:, :-1], df.values[:, -1]\r\n",
        "# ensure all data are floating point values\r\n",
        "X = X.astype('float32')\r\n",
        "# encode strings to integer\r\n",
        "y = LabelEncoder().fit_transform(y)\r\n",
        "# split into train and test datasets\r\n",
        "X_train, X_test, y_train, y_test = train_test_split(X, y, test_size=0.33)\r\n",
        "print(X_train.shape, X_test.shape, y_train.shape, y_test.shape)\r\n",
        "# determine the number of input features\r\n",
        "n_features = X_train.shape[1]\r\n",
        "# define model\r\n",
        "model = Sequential()\r\n",
        "model.add(Dense(10, activation='relu', kernel_initializer='he_normal', input_shape=(n_features,)))\r\n",
        "model.add(Dense(8, activation='relu', kernel_initializer='he_normal'))\r\n",
        "model.add(Dense(1, activation='sigmoid'))\r\n",
        "# compile the model\r\n",
        "model.compile(optimizer='adam', loss='binary_crossentropy', metrics=['accuracy'])\r\n",
        "# fit the model\r\n",
        "model.fit(X_train, y_train, epochs=150, batch_size=32, verbose=0)\r\n",
        "# evaluate the model\r\n",
        "loss, acc = model.evaluate(X_test, y_test, verbose=0)\r\n",
        "print('Test Accuracy: %.3f' % acc)\r\n",
        "# make a prediction\r\n",
        "row = [1,0,0.99539,-0.05889,0.85243,0.02306,0.83398,-0.37708,1,0.03760,0.85243,-0.17755,0.59755,-0.44945,0.60536,-0.38223,0.84356,-0.38542,0.58212,-0.32192,0.56971,-0.29674,0.36946,-0.47357,0.56811,-0.51171,0.41078,-0.46168,0.21266,-0.34090,0.42267,-0.54487,0.18641,-0.45300]\r\n",
        "yhat = model.predict([row])\r\n",
        "print('Predicted: %.3f' % yhat)"
      ],
      "execution_count": 9,
      "outputs": [
        {
          "output_type": "stream",
          "text": [
            "(235, 34) (116, 34) (235,) (116,)\n",
            "Test Accuracy: 0.931\n",
            "Predicted: 1.000\n"
          ],
          "name": "stdout"
        }
      ]
    }
  ]
}