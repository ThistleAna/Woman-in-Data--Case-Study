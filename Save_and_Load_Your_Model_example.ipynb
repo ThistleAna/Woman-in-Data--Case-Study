{
  "nbformat": 4,
  "nbformat_minor": 0,
  "metadata": {
    "colab": {
      "name": "Save and Load Your Model- example",
      "provenance": [],
      "authorship_tag": "ABX9TyOyBOh1NmaRBZ4+LFNb29jd",
      "include_colab_link": true
    },
    "kernelspec": {
      "name": "python3",
      "display_name": "Python 3"
    }
  },
  "cells": [
    {
      "cell_type": "markdown",
      "metadata": {
        "id": "view-in-github",
        "colab_type": "text"
      },
      "source": [
        "<a href=\"https://colab.research.google.com/github/ThistleAna/snowflakes/blob/main/Save_and_Load_Your_Model_example.ipynb\" target=\"_parent\"><img src=\"https://colab.research.google.com/assets/colab-badge.svg\" alt=\"Open In Colab\"/></a>"
      ]
    },
    {
      "cell_type": "code",
      "metadata": {
        "id": "BPyZDE5I2F_R"
      },
      "source": [
        "# use save() function"
      ],
      "execution_count": null,
      "outputs": []
    },
    {
      "cell_type": "markdown",
      "metadata": {
        "id": "rfYWnYF12qNs"
      },
      "source": [
        "The example below fits a simple model on a synthetic binary classification problem and then saves the model file."
      ]
    },
    {
      "cell_type": "code",
      "metadata": {
        "id": "ntBmF1qC2Q9G"
      },
      "source": [
        "# example of saving a fit model\r\n",
        "from sklearn.datasets import make_classification\r\n",
        "from tensorflow.keras import Sequential\r\n",
        "from tensorflow.keras.layers import Dense\r\n",
        "from tensorflow.keras.optimizers import SGD\r\n",
        "# create the dataset\r\n",
        "X, y = make_classification(n_samples=1000, n_features=4, n_classes=2, random_state=1)\r\n",
        "# determine the number of input features\r\n",
        "n_features = X.shape[1]\r\n",
        "# define model\r\n",
        "model = Sequential()\r\n",
        "model.add(Dense(10, activation='relu', kernel_initializer='he_normal', input_shape=(n_features,)))\r\n",
        "model.add(Dense(1, activation='sigmoid'))\r\n",
        "# compile the model\r\n",
        "sgd = SGD(learning_rate=0.001, momentum=0.8)\r\n",
        "model.compile(optimizer=sgd, loss='binary_crossentropy')\r\n",
        "# fit the model\r\n",
        "model.fit(X, y, epochs=100, batch_size=32, verbose=0, validation_split=0.3)\r\n",
        "# save model to file\r\n",
        "model.save('model.h5')"
      ],
      "execution_count": 1,
      "outputs": []
    },
    {
      "cell_type": "markdown",
      "metadata": {
        "id": "tR48zZXa2vIx"
      },
      "source": [
        "Running the example fits the model and saves it to file with the name ‘model.h5‘.\r\n",
        "\r\n",
        "We can then load the model and use it to make a prediction, or continue training it, or do whatever we wish with it.\r\n",
        "\r\n",
        "The example below loads the model and uses it to make a prediction."
      ]
    },
    {
      "cell_type": "code",
      "metadata": {
        "colab": {
          "base_uri": "https://localhost:8080/"
        },
        "id": "2l1SyvRD2df7",
        "outputId": "9ffec2a4-73e6-4ee4-c9df-683e8161454a"
      },
      "source": [
        "# example of loading a saved model\r\n",
        "from sklearn.datasets import make_classification\r\n",
        "from tensorflow.keras.models import load_model\r\n",
        "# create the dataset\r\n",
        "X, y = make_classification(n_samples=1000, n_features=4, n_classes=2, random_state=1)\r\n",
        "# load the model from file\r\n",
        "model = load_model('model.h5')\r\n",
        "# make a prediction\r\n",
        "row = [1.91518414, 1.14995454, -1.52847073, 0.79430654]\r\n",
        "yhat = model.predict([row])\r\n",
        "print('Predicted: %.3f' % yhat[0])"
      ],
      "execution_count": 2,
      "outputs": [
        {
          "output_type": "stream",
          "text": [
            "Predicted: 0.826\n"
          ],
          "name": "stdout"
        }
      ]
    },
    {
      "cell_type": "markdown",
      "metadata": {
        "id": "7hSjcNm22ipG"
      },
      "source": [
        "Running the example loads the image from file, then uses it to make a prediction on a new row of data and prints the result."
      ]
    }
  ]
}