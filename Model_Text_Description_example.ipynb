{
  "nbformat": 4,
  "nbformat_minor": 0,
  "metadata": {
    "colab": {
      "name": "Model Text Description-example",
      "provenance": [],
      "authorship_tag": "ABX9TyM+A+zCiSdhZgTJ6j9WPfIY",
      "include_colab_link": true
    },
    "kernelspec": {
      "name": "python3",
      "display_name": "Python 3"
    }
  },
  "cells": [
    {
      "cell_type": "markdown",
      "metadata": {
        "id": "view-in-github",
        "colab_type": "text"
      },
      "source": [
        "<a href=\"https://colab.research.google.com/github/ThistleAna/snowflakes/blob/main/Model_Text_Description_example.ipynb\" target=\"_parent\"><img src=\"https://colab.research.google.com/assets/colab-badge.svg\" alt=\"Open In Colab\"/></a>"
      ]
    },
    {
      "cell_type": "code",
      "metadata": {
        "colab": {
          "base_uri": "https://localhost:8080/"
        },
        "id": "K9_yHGUJzn9O",
        "outputId": "35477c2a-47eb-46d8-f23b-f46c3341ceda"
      },
      "source": [
        "# Advance Model Features\r\n",
        "# Visualize a Deep Learning Model\r\n",
        "# Type 1: Mode Text Description\r\n",
        "# example: small model with 3 layers and summarise the structure\r\n",
        "\r\n",
        "# example of summarizing a model\r\n",
        "from tensorflow.keras import Sequential\r\n",
        "from tensorflow.keras.layers import Dense\r\n",
        "# define model\r\n",
        "model = Sequential()\r\n",
        "model.add(Dense(10, activation='relu', kernel_initializer='he_normal', input_shape=(8,)))\r\n",
        "model.add(Dense(8, activation='relu', kernel_initializer='he_normal'))\r\n",
        "model.add(Dense(1, activation='sigmoid'))\r\n",
        "# summarize the model\r\n",
        "model.summary()"
      ],
      "execution_count": 1,
      "outputs": [
        {
          "output_type": "stream",
          "text": [
            "Model: \"sequential\"\n",
            "_________________________________________________________________\n",
            "Layer (type)                 Output Shape              Param #   \n",
            "=================================================================\n",
            "dense (Dense)                (None, 10)                90        \n",
            "_________________________________________________________________\n",
            "dense_1 (Dense)              (None, 8)                 88        \n",
            "_________________________________________________________________\n",
            "dense_2 (Dense)              (None, 1)                 9         \n",
            "=================================================================\n",
            "Total params: 187\n",
            "Trainable params: 187\n",
            "Non-trainable params: 0\n",
            "_________________________________________________________________\n"
          ],
          "name": "stdout"
        }
      ]
    }
  ]
}