{
  "nbformat": 4,
  "nbformat_minor": 0,
  "metadata": {
    "colab": {
      "name": "BostonHouseMLPfor Regression",
      "provenance": [],
      "authorship_tag": "ABX9TyOHWDkiW4zJ5WAxDoIoyIXC",
      "include_colab_link": true
    },
    "kernelspec": {
      "name": "python3",
      "display_name": "Python 3"
    }
  },
  "cells": [
    {
      "cell_type": "markdown",
      "metadata": {
        "id": "view-in-github",
        "colab_type": "text"
      },
      "source": [
        "<a href=\"https://colab.research.google.com/github/ThistleAna/snowflakes/blob/main/BostonHouseMLPfor_Regression.ipynb\" target=\"_parent\"><img src=\"https://colab.research.google.com/assets/colab-badge.svg\" alt=\"Open In Colab\"/></a>"
      ]
    },
    {
      "cell_type": "code",
      "metadata": {
        "colab": {
          "base_uri": "https://localhost:8080/"
        },
        "id": "ohhmYKHdzeQH",
        "outputId": "7f0a5262-650d-4d21-e411-5ede9a274cea"
      },
      "source": [
        "# mlp for regression\r\n",
        "from numpy import sqrt\r\n",
        "from pandas import read_csv\r\n",
        "from sklearn.model_selection import train_test_split\r\n",
        "from tensorflow.keras import Sequential\r\n",
        "from tensorflow.keras.layers import Dense\r\n",
        "# load the dataset\r\n",
        "path = 'https://raw.githubusercontent.com/jbrownlee/Datasets/master/housing.csv'\r\n",
        "df = read_csv(path, header=None)\r\n",
        "# split into input and output columns\r\n",
        "X, y = df.values[:, :-1], df.values[:, -1]\r\n",
        "# split into train and test datasets\r\n",
        "X_train, X_test, y_train, y_test = train_test_split(X, y, test_size=0.33)\r\n",
        "print(X_train.shape, X_test.shape, y_train.shape, y_test.shape)\r\n",
        "# determine the number of input features\r\n",
        "n_features = X_train.shape[1]\r\n",
        "# define model\r\n",
        "model = Sequential()\r\n",
        "model.add(Dense(10, activation='relu', kernel_initializer='he_normal', input_shape=(n_features,)))\r\n",
        "model.add(Dense(8, activation='relu', kernel_initializer='he_normal'))\r\n",
        "model.add(Dense(1))\r\n",
        "# compile the model\r\n",
        "model.compile(optimizer='adam', loss='mse')\r\n",
        "# fit the model\r\n",
        "model.fit(X_train, y_train, epochs=150, batch_size=32, verbose=0)\r\n",
        "# evaluate the model\r\n",
        "error = model.evaluate(X_test, y_test, verbose=0)\r\n",
        "print('MSE: %.3f, RMSE: %.3f' % (error, sqrt(error)))\r\n",
        "# make a prediction\r\n",
        "row = [0.00632,18.00,2.310,0,0.5380,6.5750,65.20,4.0900,1,296.0,15.30,396.90,4.98]\r\n",
        "yhat = model.predict([row])\r\n",
        "print('Predicted: %.3f' % yhat)\r\n",
        "\r\n",
        "# MSE = mean squared error loss"
      ],
      "execution_count": 1,
      "outputs": [
        {
          "output_type": "stream",
          "text": [
            "(339, 13) (167, 13) (339,) (167,)\n",
            "MSE: 78.973, RMSE: 8.887\n",
            "Predicted: 27.562\n"
          ],
          "name": "stdout"
        }
      ]
    }
  ]
}