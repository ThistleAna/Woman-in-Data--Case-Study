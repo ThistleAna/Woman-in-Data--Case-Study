{
  "nbformat": 4,
  "nbformat_minor": 0,
  "metadata": {
    "colab": {
      "name": "Batch Normalization",
      "provenance": [],
      "authorship_tag": "ABX9TyOd1A69UYc6d9+uZozwg3Vm",
      "include_colab_link": true
    },
    "kernelspec": {
      "name": "python3",
      "display_name": "Python 3"
    }
  },
  "cells": [
    {
      "cell_type": "markdown",
      "metadata": {
        "id": "view-in-github",
        "colab_type": "text"
      },
      "source": [
        "<a href=\"https://colab.research.google.com/github/ThistleAna/snowflakes/blob/main/Batch_Normalization.ipynb\" target=\"_parent\"><img src=\"https://colab.research.google.com/assets/colab-badge.svg\" alt=\"Open In Colab\"/></a>"
      ]
    },
    {
      "cell_type": "code",
      "metadata": {
        "id": "N7CjCMGw27yy"
      },
      "source": [
        ""
      ],
      "execution_count": null,
      "outputs": []
    },
    {
      "cell_type": "markdown",
      "metadata": {
        "id": "3hjoQCR03B84"
      },
      "source": [
        "The example below defines a small MLP network for a binary classification prediction problem with a batch normalization layer between the first hidden layer and the output layer."
      ]
    },
    {
      "cell_type": "code",
      "metadata": {
        "id": "Svz4TuT03F8c"
      },
      "source": [
        "# example of using batch normalization\r\n",
        "from sklearn.datasets import make_classification\r\n",
        "from tensorflow.keras import Sequential\r\n",
        "from tensorflow.keras.layers import Dense\r\n",
        "from tensorflow.keras.layers import BatchNormalization\r\n",
        "from matplotlib import pyplot\r\n",
        "# create the dataset\r\n",
        "X, y = make_classification(n_samples=1000, n_classes=2, random_state=1)\r\n",
        "# determine the number of input features\r\n",
        "n_features = X.shape[1]\r\n",
        "# define model\r\n",
        "model = Sequential()\r\n",
        "model.add(Dense(10, activation='relu', kernel_initializer='he_normal', input_shape=(n_features,)))\r\n",
        "model.add(BatchNormalization())\r\n",
        "model.add(Dense(1, activation='sigmoid'))\r\n",
        "# compile the model\r\n",
        "model.compile(optimizer='adam', loss='binary_crossentropy')\r\n",
        "# fit the model\r\n",
        "model.fit(X, y, epochs=100, batch_size=32, verbose=0)"
      ],
      "execution_count": null,
      "outputs": []
    },
    {
      "cell_type": "markdown",
      "metadata": {
        "id": "OXKp-ELv3Nx-"
      },
      "source": [
        "How to Halt Training at the Right Time With Early Stopping\r\n",
        "\r\n",
        "The example below demonstrates a small neural network on a synthetic binary classification problem that uses early stopping to halt training as soon as the model starts overfitting (after about 50 epochs)."
      ]
    },
    {
      "cell_type": "code",
      "metadata": {
        "id": "9PqNrHfy3XkX"
      },
      "source": [
        "# example of using early stopping\r\n",
        "from sklearn.datasets import make_classification\r\n",
        "from tensorflow.keras import Sequential\r\n",
        "from tensorflow.keras.layers import Dense\r\n",
        "from tensorflow.keras.callbacks import EarlyStopping\r\n",
        "# create the dataset\r\n",
        "X, y = make_classification(n_samples=1000, n_classes=2, random_state=1)\r\n",
        "# determine the number of input features\r\n",
        "n_features = X.shape[1]\r\n",
        "# define model\r\n",
        "model = Sequential()\r\n",
        "model.add(Dense(10, activation='relu', kernel_initializer='he_normal', input_shape=(n_features,)))\r\n",
        "model.add(Dense(1, activation='sigmoid'))\r\n",
        "# compile the model\r\n",
        "model.compile(optimizer='adam', loss='binary_crossentropy')\r\n",
        "# configure early stopping\r\n",
        "es = EarlyStopping(monitor='val_loss', patience=5)\r\n",
        "# fit the model\r\n",
        "history = model.fit(X, y, epochs=200, batch_size=32, verbose=0, validation_split=0.3, callbacks=[es])"
      ],
      "execution_count": 1,
      "outputs": []
    },
    {
      "cell_type": "markdown",
      "metadata": {
        "id": "okAogiP_3dMa"
      },
      "source": [
        "https://machinelearningmastery.com/tensorflow-tutorial-deep-learning-with-tf-keras/"
      ]
    }
  ]
}