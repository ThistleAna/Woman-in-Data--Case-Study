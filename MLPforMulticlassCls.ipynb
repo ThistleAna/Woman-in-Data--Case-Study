{
  "nbformat": 4,
  "nbformat_minor": 0,
  "metadata": {
    "colab": {
      "name": "MLPforMulticlassCls",
      "provenance": [],
      "authorship_tag": "ABX9TyMpGmRsrHEj2ZykVSkgAweC",
      "include_colab_link": true
    },
    "kernelspec": {
      "name": "python3",
      "display_name": "Python 3"
    }
  },
  "cells": [
    {
      "cell_type": "markdown",
      "metadata": {
        "id": "view-in-github",
        "colab_type": "text"
      },
      "source": [
        "<a href=\"https://colab.research.google.com/github/ThistleAna/snowflakes/blob/main/MLPforMulticlassCls.ipynb\" target=\"_parent\"><img src=\"https://colab.research.google.com/assets/colab-badge.svg\" alt=\"Open In Colab\"/></a>"
      ]
    },
    {
      "cell_type": "code",
      "metadata": {
        "colab": {
          "base_uri": "https://localhost:8080/"
        },
        "id": "xSVa9FlryxsN",
        "outputId": "d5387c4b-c042-4758-987b-a5e26490d3bb"
      },
      "source": [
        "# mlp for multiclass classification\r\n",
        "from numpy import argmax\r\n",
        "from pandas import read_csv\r\n",
        "from sklearn.model_selection import train_test_split\r\n",
        "from sklearn.preprocessing import LabelEncoder\r\n",
        "from tensorflow.keras import Sequential\r\n",
        "from tensorflow.keras.layers import Dense\r\n",
        "# load the dataset\r\n",
        "path = 'https://raw.githubusercontent.com/jbrownlee/Datasets/master/iris.csv'\r\n",
        "df = read_csv(path, header=None)\r\n",
        "# split into input and output columns\r\n",
        "X, y = df.values[:, :-1], df.values[:, -1]\r\n",
        "# ensure all data are floating point values\r\n",
        "X = X.astype('float32')\r\n",
        "# encode strings to integer\r\n",
        "y = LabelEncoder().fit_transform(y)\r\n",
        "# split into train and test datasets\r\n",
        "X_train, X_test, y_train, y_test = train_test_split(X, y, test_size=0.33)\r\n",
        "print(X_train.shape, X_test.shape, y_train.shape, y_test.shape)\r\n",
        "# determine the number of input features\r\n",
        "n_features = X_train.shape[1]\r\n",
        "# define model\r\n",
        "model = Sequential()\r\n",
        "model.add(Dense(10, activation='relu', kernel_initializer='he_normal', input_shape=(n_features,)))\r\n",
        "model.add(Dense(8, activation='relu', kernel_initializer='he_normal'))\r\n",
        "model.add(Dense(3, activation='softmax'))\r\n",
        "# compile the model\r\n",
        "model.compile(optimizer='adam', loss='sparse_categorical_crossentropy', metrics=['accuracy'])\r\n",
        "# fit the model\r\n",
        "model.fit(X_train, y_train, epochs=150, batch_size=32, verbose=0)\r\n",
        "# evaluate the model\r\n",
        "loss, acc = model.evaluate(X_test, y_test, verbose=0)\r\n",
        "print('Test Accuracy: %.3f' % acc)\r\n",
        "# make a prediction\r\n",
        "row = [5.1,3.5,1.4,0.2]\r\n",
        "yhat = model.predict([row])\r\n",
        "print('Predicted: %s (class=%d)' % (yhat, argmax(yhat)))"
      ],
      "execution_count": 1,
      "outputs": [
        {
          "output_type": "stream",
          "text": [
            "(100, 4) (50, 4) (100,) (50,)\n",
            "Test Accuracy: 0.940\n",
            "Predicted: [[0.9876391  0.00938579 0.00297507]] (class=0)\n"
          ],
          "name": "stdout"
        }
      ]
    }
  ]
}