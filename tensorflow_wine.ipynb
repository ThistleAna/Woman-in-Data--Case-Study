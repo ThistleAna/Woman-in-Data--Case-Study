{
  "nbformat": 4,
  "nbformat_minor": 0,
  "metadata": {
    "colab": {
      "name": "tensorflow-wine",
      "provenance": [],
      "authorship_tag": "ABX9TyP7pE9MzIZmefTcMUZ4TCke",
      "include_colab_link": true
    },
    "kernelspec": {
      "name": "python3",
      "display_name": "Python 3"
    }
  },
  "cells": [
    {
      "cell_type": "markdown",
      "metadata": {
        "id": "view-in-github",
        "colab_type": "text"
      },
      "source": [
        "<a href=\"https://colab.research.google.com/github/ThistleAna/snowflakes/blob/main/tensorflow_wine.ipynb\" target=\"_parent\"><img src=\"https://colab.research.google.com/assets/colab-badge.svg\" alt=\"Open In Colab\"/></a>"
      ]
    },
    {
      "cell_type": "code",
      "metadata": {
        "id": "G1AyOYgXd28C"
      },
      "source": [
        ""
      ],
      "execution_count": null,
      "outputs": []
    },
    {
      "cell_type": "code",
      "metadata": {
        "id": "3fD7uWFTd-xa"
      },
      "source": [
        "import pandas as pd\r\n",
        "import numpy as np\r\n",
        "import matplotlib.pyplot as plt\r\n"
      ],
      "execution_count": null,
      "outputs": []
    },
    {
      "cell_type": "code",
      "metadata": {
        "colab": {
          "base_uri": "https://localhost:8080/",
          "height": 257
        },
        "id": "4lpBQT2thZsy",
        "outputId": "59d0b486-f8af-4211-fb82-bf4423b9d9c0"
      },
      "source": [
        "# Loading my dataset\r\n",
        "white = pd.read_csv(\"http://archive.ics.uci.edu/ml/machine-learning-databases/wine-quality/winequality-white.csv\", sep=\";\")\r\n",
        "white.head()\r\n",
        "white.tail(25)\r\n",
        "red=pd.read_csv(\"http://archive.ics.uci.edu/ml/machine-learning-databases/wine-quality/winequality-red.csv\", sep=\";\")\r\n",
        "red.head()"
      ],
      "execution_count": null,
      "outputs": [
        {
          "output_type": "execute_result",
          "data": {
            "text/html": [
              "<div>\n",
              "<style scoped>\n",
              "    .dataframe tbody tr th:only-of-type {\n",
              "        vertical-align: middle;\n",
              "    }\n",
              "\n",
              "    .dataframe tbody tr th {\n",
              "        vertical-align: top;\n",
              "    }\n",
              "\n",
              "    .dataframe thead th {\n",
              "        text-align: right;\n",
              "    }\n",
              "</style>\n",
              "<table border=\"1\" class=\"dataframe\">\n",
              "  <thead>\n",
              "    <tr style=\"text-align: right;\">\n",
              "      <th></th>\n",
              "      <th>fixed acidity</th>\n",
              "      <th>volatile acidity</th>\n",
              "      <th>citric acid</th>\n",
              "      <th>residual sugar</th>\n",
              "      <th>chlorides</th>\n",
              "      <th>free sulfur dioxide</th>\n",
              "      <th>total sulfur dioxide</th>\n",
              "      <th>density</th>\n",
              "      <th>pH</th>\n",
              "      <th>sulphates</th>\n",
              "      <th>alcohol</th>\n",
              "      <th>quality</th>\n",
              "    </tr>\n",
              "  </thead>\n",
              "  <tbody>\n",
              "    <tr>\n",
              "      <th>0</th>\n",
              "      <td>7.4</td>\n",
              "      <td>0.70</td>\n",
              "      <td>0.00</td>\n",
              "      <td>1.9</td>\n",
              "      <td>0.076</td>\n",
              "      <td>11.0</td>\n",
              "      <td>34.0</td>\n",
              "      <td>0.9978</td>\n",
              "      <td>3.51</td>\n",
              "      <td>0.56</td>\n",
              "      <td>9.4</td>\n",
              "      <td>5</td>\n",
              "    </tr>\n",
              "    <tr>\n",
              "      <th>1</th>\n",
              "      <td>7.8</td>\n",
              "      <td>0.88</td>\n",
              "      <td>0.00</td>\n",
              "      <td>2.6</td>\n",
              "      <td>0.098</td>\n",
              "      <td>25.0</td>\n",
              "      <td>67.0</td>\n",
              "      <td>0.9968</td>\n",
              "      <td>3.20</td>\n",
              "      <td>0.68</td>\n",
              "      <td>9.8</td>\n",
              "      <td>5</td>\n",
              "    </tr>\n",
              "    <tr>\n",
              "      <th>2</th>\n",
              "      <td>7.8</td>\n",
              "      <td>0.76</td>\n",
              "      <td>0.04</td>\n",
              "      <td>2.3</td>\n",
              "      <td>0.092</td>\n",
              "      <td>15.0</td>\n",
              "      <td>54.0</td>\n",
              "      <td>0.9970</td>\n",
              "      <td>3.26</td>\n",
              "      <td>0.65</td>\n",
              "      <td>9.8</td>\n",
              "      <td>5</td>\n",
              "    </tr>\n",
              "    <tr>\n",
              "      <th>3</th>\n",
              "      <td>11.2</td>\n",
              "      <td>0.28</td>\n",
              "      <td>0.56</td>\n",
              "      <td>1.9</td>\n",
              "      <td>0.075</td>\n",
              "      <td>17.0</td>\n",
              "      <td>60.0</td>\n",
              "      <td>0.9980</td>\n",
              "      <td>3.16</td>\n",
              "      <td>0.58</td>\n",
              "      <td>9.8</td>\n",
              "      <td>6</td>\n",
              "    </tr>\n",
              "    <tr>\n",
              "      <th>4</th>\n",
              "      <td>7.4</td>\n",
              "      <td>0.70</td>\n",
              "      <td>0.00</td>\n",
              "      <td>1.9</td>\n",
              "      <td>0.076</td>\n",
              "      <td>11.0</td>\n",
              "      <td>34.0</td>\n",
              "      <td>0.9978</td>\n",
              "      <td>3.51</td>\n",
              "      <td>0.56</td>\n",
              "      <td>9.4</td>\n",
              "      <td>5</td>\n",
              "    </tr>\n",
              "  </tbody>\n",
              "</table>\n",
              "</div>"
            ],
            "text/plain": [
              "   fixed acidity  volatile acidity  citric acid  ...  sulphates  alcohol  quality\n",
              "0            7.4              0.70         0.00  ...       0.56      9.4        5\n",
              "1            7.8              0.88         0.00  ...       0.68      9.8        5\n",
              "2            7.8              0.76         0.04  ...       0.65      9.8        5\n",
              "3           11.2              0.28         0.56  ...       0.58      9.8        6\n",
              "4            7.4              0.70         0.00  ...       0.56      9.4        5\n",
              "\n",
              "[5 rows x 12 columns]"
            ]
          },
          "metadata": {
            "tags": []
          },
          "execution_count": 8
        }
      ]
    },
    {
      "cell_type": "code",
      "metadata": {
        "colab": {
          "base_uri": "https://localhost:8080/"
        },
        "id": "MtYFOmRVicqy",
        "outputId": "bb0f0bf8-9711-45c4-fd35-e695e26f4565"
      },
      "source": [
        "# Pre-process Data to start building NN\r\n",
        "# Add 'type' column to 'red' with value 1\r\n",
        "red['type'] = 1\r\n",
        "# Add 'type' column to 'white' with value 0\r\n",
        "white['type'] = 0\r\n",
        "# Append 'white' to 'red'\r\n",
        "wines = red.append(white, ignore_index=True)\r\n",
        "print(wines)"
      ],
      "execution_count": null,
      "outputs": [
        {
          "output_type": "stream",
          "text": [
            "      fixed acidity  volatile acidity  citric acid  ...  alcohol  quality  type\n",
            "0               7.4              0.70         0.00  ...      9.4        5     1\n",
            "1               7.8              0.88         0.00  ...      9.8        5     1\n",
            "2               7.8              0.76         0.04  ...      9.8        5     1\n",
            "3              11.2              0.28         0.56  ...      9.8        6     1\n",
            "4               7.4              0.70         0.00  ...      9.4        5     1\n",
            "...             ...               ...          ...  ...      ...      ...   ...\n",
            "6492            6.2              0.21         0.29  ...     11.2        6     0\n",
            "6493            6.6              0.32         0.36  ...      9.6        5     0\n",
            "6494            6.5              0.24         0.19  ...      9.4        6     0\n",
            "6495            5.5              0.29         0.30  ...     12.8        7     0\n",
            "6496            6.0              0.21         0.38  ...     11.8        6     0\n",
            "\n",
            "[6497 rows x 13 columns]\n"
          ],
          "name": "stdout"
        }
      ]
    },
    {
      "cell_type": "code",
      "metadata": {
        "colab": {
          "base_uri": "https://localhost:8080/"
        },
        "id": "bF8uNvrLi2mD",
        "outputId": "953af1d4-ac0a-4a8c-a771-dd9e530b29a0"
      },
      "source": [
        "# Train and test sets\r\n",
        "from sklearn.model_selection import train_test_split\r\n",
        "y = red.quality\r\n",
        "X = red.drop('quality', axis=1)\r\n",
        "X_train, X_test, y_train, y_test = train_test_split(X, y, test_size=0.33, random_state=42)\r\n",
        "print(X_train.shape)\r\n",
        "print(y_train.shape)"
      ],
      "execution_count": null,
      "outputs": [
        {
          "output_type": "stream",
          "text": [
            "(1071, 12)\n",
            "(1071,)\n"
          ],
          "name": "stdout"
        }
      ]
    },
    {
      "cell_type": "code",
      "metadata": {
        "id": "dfGUObL0lJOt"
      },
      "source": [
        "# Standardise the data to deal with the values that lie so far apart\r\n",
        "from sklearn.preprocessing import StandardScaler\r\n",
        "scalar = StandardScaler().fit(X_train)\r\n",
        "X_train = scalar.transform(X_train)\r\n",
        "X_test = scalar.transform(X_test)\r\n",
        "\r\n",
        "import tensorflow as tf\r\n",
        "\r\n",
        "from tensorflow import keras\r\n",
        "from tensorflow.keras.models import Sequential\r\n",
        "from tensorflow.keras.layers import Dense"
      ],
      "execution_count": null,
      "outputs": []
    },
    {
      "cell_type": "code",
      "metadata": {
        "colab": {
          "base_uri": "https://localhost:8080/"
        },
        "id": "iRdFI7rKnAPW",
        "outputId": "9604aa04-5fde-4217-f3bd-8315bb7d67f0"
      },
      "source": [
        "# Multi-layer perceptron NN using Keras Sequential Module\r\n",
        "model = Sequential()\r\n",
        "# creating the model layer\r\n",
        "model.add(Dense(12, activation='relu', input_shape=(12,)))\r\n",
        "# Hidden layer\r\n",
        "model.add(Dense(8, activation='relu'))\r\n",
        "# Output label\r\n",
        "model.add(Dense(1, activation='sigmoid'))\r\n",
        "\r\n",
        "# information from the model\r\n",
        "print(\"Output shape\", model.output_shape)\r\n",
        "model.summary()\r\n",
        "print(\"Model weights:\", model.get_weights())"
      ],
      "execution_count": null,
      "outputs": [
        {
          "output_type": "stream",
          "text": [
            "Output shape (None, 1)\n",
            "Model: \"sequential_2\"\n",
            "_________________________________________________________________\n",
            "Layer (type)                 Output Shape              Param #   \n",
            "=================================================================\n",
            "dense_6 (Dense)              (None, 12)                156       \n",
            "_________________________________________________________________\n",
            "dense_7 (Dense)              (None, 8)                 104       \n",
            "_________________________________________________________________\n",
            "dense_8 (Dense)              (None, 1)                 9         \n",
            "=================================================================\n",
            "Total params: 269\n",
            "Trainable params: 269\n",
            "Non-trainable params: 0\n",
            "_________________________________________________________________\n",
            "Model weights: [array([[ 4.5196235e-01,  1.1505365e-02,  4.7206748e-01,  1.7664385e-01,\n",
            "         7.6693654e-02,  3.6370420e-01,  3.9488673e-02,  5.1311851e-02,\n",
            "         2.3919606e-01, -2.7560973e-01,  2.8940952e-01,  4.3617070e-01],\n",
            "       [-3.9091396e-01, -3.6481988e-01,  9.5129013e-05,  1.0553634e-01,\n",
            "         1.6316175e-01, -8.4356904e-02, -3.5185933e-01,  2.4188757e-03,\n",
            "        -1.6029084e-01,  4.7859216e-01,  2.4714601e-01, -4.2157781e-01],\n",
            "       [ 9.5868111e-04,  4.0279627e-01,  1.0659695e-02,  2.7035403e-01,\n",
            "         3.8889790e-01, -2.0727265e-01,  3.1115043e-01,  3.7370324e-01,\n",
            "        -1.6716158e-01, -3.6129129e-01,  7.6229334e-02, -1.2035501e-01],\n",
            "       [-3.7488306e-01, -2.9322124e-01, -2.9264092e-01, -3.1565487e-01,\n",
            "        -4.3957710e-02, -4.0205836e-02,  4.6869028e-01, -2.7126384e-01,\n",
            "         3.5076952e-01,  2.9350317e-01, -4.9576509e-01,  4.7884345e-02],\n",
            "       [ 6.6782117e-02,  2.7787519e-01, -1.8377328e-01,  4.4620562e-01,\n",
            "        -3.3837974e-01,  7.2994232e-02, -4.6561432e-01, -1.5485287e-03,\n",
            "         1.4003623e-01,  2.9310882e-01, -7.1707249e-02,  4.5668137e-01],\n",
            "       [-2.8173971e-01, -6.4100623e-02,  1.2978899e-01,  3.1271851e-01,\n",
            "        -3.3943486e-01,  2.6337981e-02, -7.2039604e-02,  2.4276257e-01,\n",
            "         4.7869420e-01, -3.0607951e-01,  3.3703482e-01,  3.6447597e-01],\n",
            "       [ 1.6775227e-01,  2.6299179e-01, -3.1910229e-01,  2.9873598e-01,\n",
            "        -2.5026333e-01, -6.3581467e-02, -3.0159950e-01, -2.5903106e-02,\n",
            "         3.8566720e-01, -9.2074752e-02,  1.5514612e-01, -3.0846596e-01],\n",
            "       [ 3.7289011e-01, -1.9498360e-01,  4.7695529e-01,  4.5222437e-01,\n",
            "         2.2801280e-02,  3.7419987e-01,  3.0681777e-01,  2.3001230e-01,\n",
            "        -9.9929333e-02,  6.5765738e-02, -4.2138278e-01, -2.1794212e-01],\n",
            "       [ 4.1550815e-01, -2.3793399e-01,  1.3144171e-01,  1.6045308e-01,\n",
            "        -3.6421907e-01, -2.8595448e-02, -4.8946965e-01,  4.9613822e-01,\n",
            "        -2.4222755e-01,  3.3788753e-01,  2.3558760e-01,  4.6703815e-01],\n",
            "       [-2.8651202e-01, -3.0019903e-01, -2.2682607e-01, -4.1830099e-01,\n",
            "         3.4961307e-01, -1.3511431e-01,  3.2436013e-02, -2.3174918e-01,\n",
            "         1.3057017e-01, -2.1925128e-01,  3.5702825e-02,  4.3149567e-01],\n",
            "       [ 1.2661934e-01,  2.2722554e-01,  3.6882722e-01,  8.5057020e-02,\n",
            "         2.3103952e-01,  6.9787979e-02, -2.0334613e-01,  3.3325183e-01,\n",
            "        -2.8227603e-01,  2.0264351e-01,  3.1422520e-01, -1.2827897e-01],\n",
            "       [-2.3792672e-01,  1.5514231e-01, -4.7286749e-02,  8.7573171e-02,\n",
            "         2.9641557e-01, -2.3251843e-01, -1.9246972e-01, -1.3920248e-01,\n",
            "         4.5053840e-02,  4.7689974e-01, -3.7430930e-01, -1.8496716e-01]],\n",
            "      dtype=float32), array([0., 0., 0., 0., 0., 0., 0., 0., 0., 0., 0., 0.], dtype=float32), array([[-0.18903196, -0.23759028,  0.27832776,  0.02598828, -0.5163516 ,\n",
            "        -0.39487255,  0.37330228,  0.08321202],\n",
            "       [ 0.18753976,  0.3938498 , -0.19522023,  0.07038939, -0.00633311,\n",
            "        -0.39684248,  0.4460855 , -0.15797177],\n",
            "       [-0.5190267 , -0.09884918,  0.5195663 ,  0.50085473,  0.38704205,\n",
            "        -0.43265432,  0.23633718,  0.3400774 ],\n",
            "       [ 0.11313868, -0.3475757 , -0.00417554, -0.0065428 ,  0.05839401,\n",
            "         0.12116814,  0.35254586, -0.25206628],\n",
            "       [ 0.17265475, -0.32420424,  0.32279366, -0.14099231,  0.50153244,\n",
            "        -0.1613054 , -0.4173649 , -0.44491437],\n",
            "       [-0.36551827, -0.4422701 ,  0.43785864,  0.22464651, -0.00327802,\n",
            "        -0.10859752,  0.20517516,  0.13329524],\n",
            "       [ 0.25319457, -0.19528067,  0.35957903, -0.46408406,  0.51034653,\n",
            "         0.09123033, -0.3208719 ,  0.17797446],\n",
            "       [-0.4643315 ,  0.39433974, -0.27424246,  0.3690279 , -0.37847263,\n",
            "        -0.05260617,  0.45304394,  0.38908076],\n",
            "       [ 0.3762046 ,  0.04564196, -0.15741313, -0.48396897, -0.5252284 ,\n",
            "        -0.45640868,  0.3797707 ,  0.34465235],\n",
            "       [-0.10431179,  0.12848884,  0.22181225, -0.19489062, -0.34737524,\n",
            "         0.5003418 ,  0.46189535, -0.14732015],\n",
            "       [ 0.26132816,  0.18815231, -0.08017939, -0.37832585, -0.46289298,\n",
            "         0.49073875, -0.38531005,  0.3366726 ],\n",
            "       [-0.44016546, -0.3480783 ,  0.30283713,  0.1380071 , -0.26757246,\n",
            "         0.0317446 , -0.03379232,  0.03436899]], dtype=float32), array([0., 0., 0., 0., 0., 0., 0., 0.], dtype=float32), array([[-0.25352114],\n",
            "       [ 0.02352327],\n",
            "       [-0.34400633],\n",
            "       [ 0.60127485],\n",
            "       [ 0.7334871 ],\n",
            "       [-0.24065399],\n",
            "       [-0.6439001 ],\n",
            "       [ 0.05066854]], dtype=float32), array([0.], dtype=float32)]\n"
          ],
          "name": "stdout"
        }
      ]
    },
    {
      "cell_type": "code",
      "metadata": {
        "colab": {
          "base_uri": "https://localhost:8080/"
        },
        "id": "DEnw2Tx1o0bx",
        "outputId": "9c20da02-c067-4c43-8817-d0ce54ff741c"
      },
      "source": [
        "# Compile and Fit\r\n",
        "model.compile(loss='binary_crossentropy', optimizer='adam', metrics=['accuracy'])\r\n",
        "model.fit(X_train, y_train, epochs=20, batch_size=1, verbose=1)"
      ],
      "execution_count": null,
      "outputs": [
        {
          "output_type": "stream",
          "text": [
            "Epoch 1/20\n",
            "1071/1071 [==============================] - 1s 907us/step - loss: -3573142.2787 - accuracy: 0.0000e+00\n",
            "Epoch 2/20\n",
            "1071/1071 [==============================] - 1s 850us/step - loss: -4059153.7451 - accuracy: 0.0000e+00\n",
            "Epoch 3/20\n",
            "1071/1071 [==============================] - 1s 912us/step - loss: -4568173.4529 - accuracy: 0.0000e+00\n",
            "Epoch 4/20\n",
            "1071/1071 [==============================] - 1s 888us/step - loss: -5085662.7530 - accuracy: 0.0000e+00\n",
            "Epoch 5/20\n",
            "1071/1071 [==============================] - 1s 875us/step - loss: -5537979.9907 - accuracy: 0.0000e+00\n",
            "Epoch 6/20\n",
            "1071/1071 [==============================] - 1s 925us/step - loss: -6402525.9440 - accuracy: 0.0000e+00\n",
            "Epoch 7/20\n",
            "1071/1071 [==============================] - 1s 904us/step - loss: -7023673.3092 - accuracy: 0.0000e+00\n",
            "Epoch 8/20\n",
            "1071/1071 [==============================] - 1s 843us/step - loss: -7971201.5714 - accuracy: 0.0000e+00\n",
            "Epoch 9/20\n",
            "1071/1071 [==============================] - 1s 861us/step - loss: -8765948.0639 - accuracy: 0.0000e+00\n",
            "Epoch 10/20\n",
            "1071/1071 [==============================] - 1s 912us/step - loss: -9797455.5215 - accuracy: 0.0000e+00\n",
            "Epoch 11/20\n",
            "1071/1071 [==============================] - 1s 929us/step - loss: -10883874.8559 - accuracy: 0.0000e+00\n",
            "Epoch 12/20\n",
            "1071/1071 [==============================] - 1s 851us/step - loss: -11464405.5690 - accuracy: 0.0000e+00\n",
            "Epoch 13/20\n",
            "1071/1071 [==============================] - 1s 927us/step - loss: -12459751.6754 - accuracy: 0.0000e+00\n",
            "Epoch 14/20\n",
            "1071/1071 [==============================] - 1s 898us/step - loss: -13551952.7780 - accuracy: 0.0000e+00\n",
            "Epoch 15/20\n",
            "1071/1071 [==============================] - 1s 884us/step - loss: -14416019.3470 - accuracy: 0.0000e+00\n",
            "Epoch 16/20\n",
            "1071/1071 [==============================] - 1s 922us/step - loss: -16278393.9627 - accuracy: 0.0000e+00\n",
            "Epoch 17/20\n",
            "1071/1071 [==============================] - 1s 890us/step - loss: -17171175.1707 - accuracy: 0.0000e+00\n",
            "Epoch 18/20\n",
            "1071/1071 [==============================] - 1s 903us/step - loss: -18749560.5037 - accuracy: 0.0000e+00\n",
            "Epoch 19/20\n",
            "1071/1071 [==============================] - 1s 926us/step - loss: -20078099.7397 - accuracy: 0.0000e+00\n",
            "Epoch 20/20\n",
            "1071/1071 [==============================] - 1s 936us/step - loss: -21168593.0187 - accuracy: 0.0000e+00\n"
          ],
          "name": "stdout"
        },
        {
          "output_type": "execute_result",
          "data": {
            "text/plain": [
              "<tensorflow.python.keras.callbacks.History at 0x7f291583eba8>"
            ]
          },
          "metadata": {
            "tags": []
          },
          "execution_count": 29
        }
      ]
    },
    {
      "cell_type": "code",
      "metadata": {
        "colab": {
          "base_uri": "https://localhost:8080/"
        },
        "id": "VMWM0HtjpaYR",
        "outputId": "57bd2f83-64dc-4ed6-c22f-5134622fb6fe"
      },
      "source": [
        "# Test Data Predictions\r\n",
        "y_pred = model.predict(X_test)\r\n",
        "y_pred[:5]"
      ],
      "execution_count": null,
      "outputs": [
        {
          "output_type": "execute_result",
          "data": {
            "text/plain": [
              "array([[1.],\n",
              "       [1.],\n",
              "       [1.],\n",
              "       [1.],\n",
              "       [1.]], dtype=float32)"
            ]
          },
          "metadata": {
            "tags": []
          },
          "execution_count": 30
        }
      ]
    },
    {
      "cell_type": "code",
      "metadata": {
        "colab": {
          "base_uri": "https://localhost:8080/"
        },
        "id": "FC6qnMD7p-1J",
        "outputId": "e0c9303d-4c01-40d0-db72-ddc7188ffaab"
      },
      "source": [
        "predictions = [1 if p > 0.5 else 0 for p in y_pred]\r\n",
        "predictions[:15]"
      ],
      "execution_count": null,
      "outputs": [
        {
          "output_type": "execute_result",
          "data": {
            "text/plain": [
              "[1, 1, 1, 1, 1, 1, 1, 1, 1, 1, 1, 1, 1, 1, 1]"
            ]
          },
          "metadata": {
            "tags": []
          },
          "execution_count": 31
        }
      ]
    },
    {
      "cell_type": "code",
      "metadata": {
        "colab": {
          "base_uri": "https://localhost:8080/"
        },
        "id": "XUPpbN1GqQxg",
        "outputId": "47988288-b90b-4fb9-9492-859ea8f1af5e"
      },
      "source": [
        "y_test[:15]"
      ],
      "execution_count": null,
      "outputs": [
        {
          "output_type": "execute_result",
          "data": {
            "text/plain": [
              "803     6\n",
              "124     5\n",
              "350     6\n",
              "682     5\n",
              "1326    6\n",
              "976     5\n",
              "1493    5\n",
              "706     5\n",
              "613     5\n",
              "1587    6\n",
              "513     7\n",
              "1505    3\n",
              "1525    5\n",
              "1568    5\n",
              "220     6\n",
              "Name: quality, dtype: int64"
            ]
          },
          "metadata": {
            "tags": []
          },
          "execution_count": 32
        }
      ]
    },
    {
      "cell_type": "code",
      "metadata": {
        "colab": {
          "base_uri": "https://localhost:8080/"
        },
        "id": "aaFfNCB-rDFH",
        "outputId": "fadb94b7-9ed5-488e-cda7-4183548af566"
      },
      "source": [
        "# Evaluate model\r\n",
        "score = model.evaluate(X_test, y_test, verbose=1)"
      ],
      "execution_count": null,
      "outputs": [
        {
          "output_type": "stream",
          "text": [
            "17/17 [==============================] - 0s 910us/step - loss: -23534498.0000 - accuracy: 0.0000e+00\n"
          ],
          "name": "stdout"
        }
      ]
    }
  ]
}